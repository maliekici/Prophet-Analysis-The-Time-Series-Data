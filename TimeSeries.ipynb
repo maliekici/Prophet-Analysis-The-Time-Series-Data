{
  "nbformat": 4,
  "nbformat_minor": 0,
  "metadata": {
    "colab": {
      "provenance": [],
      "collapsed_sections": [],
      "authorship_tag": "ABX9TyO3ZrLvedyKDOxI9LFLYgMt",
      "include_colab_link": true
    },
    "kernelspec": {
      "name": "python3",
      "display_name": "Python 3"
    },
    "language_info": {
      "name": "python"
    }
  },
  "cells": [
    {
      "cell_type": "markdown",
      "metadata": {
        "id": "view-in-github",
        "colab_type": "text"
      },
      "source": [
        "<a href=\"https://colab.research.google.com/github/maliekici/Prophet-Analysis-The-Time-Series-Data/blob/main/TimeSeries.ipynb\" target=\"_parent\"><img src=\"https://colab.research.google.com/assets/colab-badge.svg\" alt=\"Open In Colab\"/></a>"
      ]
    },
    {
      "cell_type": "markdown",
      "source": [
        "**Time Series Analysis with Prophet**\n"
      ],
      "metadata": {
        "id": "TiuPayn44p8Y"
      }
    },
    {
      "cell_type": "markdown",
      "source": [
        "Prophet kütüpahnesi, tek değikenli zaman serisi veri kümeleri için tahminler yapmak için tasarlanmış açık kaynak kaynaklı bir kütüphanedir. Kullanımı kolaydır ve varsayılan olarak trendler ve mevsimsel yapıya sahip veriler için tahminler yapmak amacı ile model için iyi bir hyperparameter kümesini otomatik olarak bulmak için tasarlanmıştır"
      ],
      "metadata": {
        "id": "uKltjaYG5CcQ"
      }
    },
    {
      "cell_type": "markdown",
      "source": [
        "**Kurulumlar**\n",
        "---\n",
        " Bu projeyi gerçekleştirmek için aşağıdaki kütühanelere ihtiyacımız vardır.\n",
        "*   fbprophet\n",
        "*   pandas\n",
        "*   matplotlib\n",
        "*   plotly(zorunlu değil fakat prophetin bazı durumlarda ihtiyacı olacak)\n",
        "*   scikit-learn\n",
        "---\n",
        "Gerekli kütüpahenlerin kurulumlarını aşağıdaki kod satırını çalıştırırak tamamlayabilirsiniz"
      ],
      "metadata": {
        "id": "XNYCFkAm5zWm"
      }
    },
    {
      "cell_type": "code",
      "source": [
        "!pip install --upgrade pip"
      ],
      "metadata": {
        "id": "6S8yfa0I7WaT"
      },
      "execution_count": null,
      "outputs": []
    },
    {
      "cell_type": "code",
      "source": [
        "!pip install prophet pandas matplotlib plotly scikit-learn"
      ],
      "metadata": {
        "id": "Wpgh55M06kOJ"
      },
      "execution_count": null,
      "outputs": []
    },
    {
      "cell_type": "markdown",
      "source": [
        "**Dataset**"
      ],
      "metadata": {
        "id": "BDqEcJUC8UFF"
      }
    },
    {
      "cell_type": "code",
      "source": [
        "import pandas as pd\n",
        "path = 'https://raw.githubusercontent.com/jbrownlee/Datasets/master/monthly-car-sales.csv'\n",
        "df = pd.read_csv(path, header = 0)\n",
        "\n",
        "print(df.shape)\n",
        "print(df.head())"
      ],
      "metadata": {
        "id": "fMxvUzyZ8TyL",
        "colab": {
          "base_uri": "https://localhost:8080/"
        },
        "outputId": "bae7b675-4539-4d81-d2c7-6049fb31a98d"
      },
      "execution_count": null,
      "outputs": [
        {
          "output_type": "stream",
          "name": "stdout",
          "text": [
            "(108, 2)\n",
            "     Month  Sales\n",
            "0  1960-01   6550\n",
            "1  1960-02   8728\n",
            "2  1960-03  12026\n",
            "3  1960-04  14395\n",
            "4  1960-05  14587\n"
          ]
        }
      ]
    },
    {
      "cell_type": "markdown",
      "source": [
        "**Verinin Görselleştirilmesi**"
      ],
      "metadata": {
        "id": "j6pbAIHvI7t4"
      }
    },
    {
      "cell_type": "code",
      "source": [
        "from matplotlib import pyplot \n",
        "df.plot()\n",
        "pyplot.show()"
      ],
      "metadata": {
        "colab": {
          "base_uri": "https://localhost:8080/",
          "height": 265
        },
        "id": "BDbPRvFgI5TJ",
        "outputId": "4b657e98-8926-4c0c-b752-b72ca711568b"
      },
      "execution_count": null,
      "outputs": [
        {
          "output_type": "display_data",
          "data": {
            "text/plain": [
              "<Figure size 432x288 with 1 Axes>"
            ],
            "image/png": "[encoded data removed]"
          },
          "metadata": {
            "needs_background": "light"
          }
        }
      ]
    },
    {
      "cell_type": "code",
      "source": [
        "df.columns = ['ds', 'y']\n",
        "df['ds'] = pd.to_datetime(df['ds'])"
      ],
      "metadata": {
        "id": "M0OhvOxIJJMj"
      },
      "execution_count": null,
      "outputs": []
    },
    {
      "cell_type": "code",
      "source": [
        "df.dtypes"
      ],
      "metadata": {
        "colab": {
          "base_uri": "https://localhost:8080/"
        },
        "id": "XRn2MhKHI5J0",
        "outputId": "4cd8460e-b6d8-4625-fbed-c0ae6827b1a9"
      },
      "execution_count": null,
      "outputs": [
        {
          "output_type": "execute_result",
          "data": {
            "text/plain": [
              "ds    datetime64[ns]\n",
              "y              int64\n",
              "dtype: object"
            ]
          },
          "metadata": {},
          "execution_count": 31
        }
      ]
    },
    {
      "cell_type": "code",
      "source": [
        "from prophet import Prophet\n",
        "model = Prophet()\n",
        "model.fit(df)"
      ],
      "metadata": {
        "id": "LELmeFM6JJO5"
      },
      "execution_count": null,
      "outputs": []
    },
    {
      "cell_type": "code",
      "source": [
        "future = list()\n",
        "for i in range(1, 13):\n",
        "  date = '1968-%02d' % i\n",
        "  future.append([ date ])\n",
        "\n",
        "future = pd.DataFrame(future)\n",
        "future.columns = ['ds']\n",
        "future['ds'] = pd.to_datetime(future['ds'])\n",
        "forecast = model.predict(future)"
      ],
      "metadata": {
        "id": "M8EzjnsQJ0RK"
      },
      "execution_count": null,
      "outputs": []
    },
    {
      "cell_type": "code",
      "source": [
        "forecast.head()"
      ],
      "metadata": {
        "colab": {
          "base_uri": "https://localhost:8080/",
          "height": 357
        },
        "id": "Po9_kvdFJ0TW",
        "outputId": "4f6c4c7d-edfc-4d3a-8f8f-387b45d55b28"
      },
      "execution_count": null,
      "outputs": [
        {
          "output_type": "execute_result",
          "data": {
            "text/plain": [
              "          ds         trend    yhat_lower    yhat_upper   trend_lower  \\\n",
              "0 1968-01-01  17825.745010  12833.712116  16043.201003  17825.745010   \n",
              "1 1968-02-01  17881.935110  13396.189840  16513.417615  17881.935110   \n",
              "2 1968-03-01  17934.500043  19328.716700  22490.597572  17934.500043   \n",
              "3 1968-04-01  17990.690143  21407.423008  24556.377415  17990.690143   \n",
              "4 1968-05-01  18045.067659  22595.632208  25696.334917  18045.067659   \n",
              "\n",
              "    trend_upper  additive_terms  additive_terms_lower  additive_terms_upper  \\\n",
              "0  17825.745010    -3460.599457          -3460.599457          -3460.599457   \n",
              "1  17881.935110    -2948.791878          -2948.791878          -2948.791878   \n",
              "2  17934.500043     2953.908186           2953.908186           2953.908186   \n",
              "3  17990.690143     4917.919861           4917.919861           4917.919861   \n",
              "4  18045.067659     6158.579152           6158.579152           6158.579152   \n",
              "\n",
              "        yearly  yearly_lower  yearly_upper  multiplicative_terms  \\\n",
              "0 -3460.599457  -3460.599457  -3460.599457                   0.0   \n",
              "1 -2948.791878  -2948.791878  -2948.791878                   0.0   \n",
              "2  2953.908186   2953.908186   2953.908186                   0.0   \n",
              "3  4917.919861   4917.919861   4917.919861                   0.0   \n",
              "4  6158.579152   6158.579152   6158.579152                   0.0   \n",
              "\n",
              "   multiplicative_terms_lower  multiplicative_terms_upper          yhat  \n",
              "0                         0.0                         0.0  14365.145554  \n",
              "1                         0.0                         0.0  14933.143232  \n",
              "2                         0.0                         0.0  20888.408228  \n",
              "3                         0.0                         0.0  22908.610003  \n",
              "4                         0.0                         0.0  24203.646811  "
            ],
            "text/html": [
              "\n",
              "  <div id=\"df-ed3c931a-f010-465d-94df-2e59da3594c7\">\n",
              "    <div class=\"colab-df-container\">\n",
              "      <div>\n",
              "<style scoped>\n",
              "    .dataframe tbody tr th:only-of-type {\n",
              "        vertical-align: middle;\n",
              "    }\n",
              "\n",
              "    .dataframe tbody tr th {\n",
              "        vertical-align: top;\n",
              "    }\n",
              "\n",
              "    .dataframe thead th {\n",
              "        text-align: right;\n",
              "    }\n",
              "</style>\n",
              "<table border=\"1\" class=\"dataframe\">\n",
              "  <thead>\n",
              "    <tr style=\"text-align: right;\">\n",
              "      <th></th>\n",
              "      <th>ds</th>\n",
              "      <th>trend</th>\n",
              "      <th>yhat_lower</th>\n",
              "      <th>yhat_upper</th>\n",
              "      <th>trend_lower</th>\n",
              "      <th>trend_upper</th>\n",
              "      <th>additive_terms</th>\n",
              "      <th>additive_terms_lower</th>\n",
              "      <th>additive_terms_upper</th>\n",
              "      <th>yearly</th>\n",
              "      <th>yearly_lower</th>\n",
              "      <th>yearly_upper</th>\n",
              "      <th>multiplicative_terms</th>\n",
              "      <th>multiplicative_terms_lower</th>\n",
              "      <th>multiplicative_terms_upper</th>\n",
              "      <th>yhat</th>\n",
              "    </tr>\n",
              "  </thead>\n",
              "  <tbody>\n",
              "    <tr>\n",
              "      <th>0</th>\n",
              "      <td>1968-01-01</td>\n",
              "      <td>17825.745010</td>\n",
              "      <td>12833.712116</td>\n",
              "      <td>16043.201003</td>\n",
              "      <td>17825.745010</td>\n",
              "      <td>17825.745010</td>\n",
              "      <td>-3460.599457</td>\n",
              "      <td>-3460.599457</td>\n",
              "      <td>-3460.599457</td>\n",
              "      <td>-3460.599457</td>\n",
              "      <td>-3460.599457</td>\n",
              "      <td>-3460.599457</td>\n",
              "      <td>0.0</td>\n",
              "      <td>0.0</td>\n",
              "      <td>0.0</td>\n",
              "      <td>14365.145554</td>\n",
              "    </tr>\n",
              "    <tr>\n",
              "      <th>1</th>\n",
              "      <td>1968-02-01</td>\n",
              "      <td>17881.935110</td>\n",
              "      <td>13396.189840</td>\n",
              "      <td>16513.417615</td>\n",
              "      <td>17881.935110</td>\n",
              "      <td>17881.935110</td>\n",
              "      <td>-2948.791878</td>\n",
              "      <td>-2948.791878</td>\n",
              "      <td>-2948.791878</td>\n",
              "      <td>-2948.791878</td>\n",
              "      <td>-2948.791878</td>\n",
              "      <td>-2948.791878</td>\n",
              "      <td>0.0</td>\n",
              "      <td>0.0</td>\n",
              "      <td>0.0</td>\n",
              "      <td>14933.143232</td>\n",
              "    </tr>\n",
              "    <tr>\n",
              "      <th>2</th>\n",
              "      <td>1968-03-01</td>\n",
              "      <td>17934.500043</td>\n",
              "      <td>19328.716700</td>\n",
              "      <td>22490.597572</td>\n",
              "      <td>17934.500043</td>\n",
              "      <td>17934.500043</td>\n",
              "      <td>2953.908186</td>\n",
              "      <td>2953.908186</td>\n",
              "      <td>2953.908186</td>\n",
              "      <td>2953.908186</td>\n",
              "      <td>2953.908186</td>\n",
              "      <td>2953.908186</td>\n",
              "      <td>0.0</td>\n",
              "      <td>0.0</td>\n",
              "      <td>0.0</td>\n",
              "      <td>20888.408228</td>\n",
              "    </tr>\n",
              "    <tr>\n",
              "      <th>3</th>\n",
              "      <td>1968-04-01</td>\n",
              "      <td>17990.690143</td>\n",
              "      <td>21407.423008</td>\n",
              "      <td>24556.377415</td>\n",
              "      <td>17990.690143</td>\n",
              "      <td>17990.690143</td>\n",
              "      <td>4917.919861</td>\n",
              "      <td>4917.919861</td>\n",
              "      <td>4917.919861</td>\n",
              "      <td>4917.919861</td>\n",
              "      <td>4917.919861</td>\n",
              "      <td>4917.919861</td>\n",
              "      <td>0.0</td>\n",
              "      <td>0.0</td>\n",
              "      <td>0.0</td>\n",
              "      <td>22908.610003</td>\n",
              "    </tr>\n",
              "    <tr>\n",
              "      <th>4</th>\n",
              "      <td>1968-05-01</td>\n",
              "      <td>18045.067659</td>\n",
              "      <td>22595.632208</td>\n",
              "      <td>25696.334917</td>\n",
              "      <td>18045.067659</td>\n",
              "      <td>18045.067659</td>\n",
              "      <td>6158.579152</td>\n",
              "      <td>6158.579152</td>\n",
              "      <td>6158.579152</td>\n",
              "      <td>6158.579152</td>\n",
              "      <td>6158.579152</td>\n",
              "      <td>6158.579152</td>\n",
              "      <td>0.0</td>\n",
              "      <td>0.0</td>\n",
              "      <td>0.0</td>\n",
              "      <td>24203.646811</td>\n",
              "    </tr>\n",
              "  </tbody>\n",
              "</table>\n",
              "</div>\n",
              "      <button class=\"colab-df-convert\" onclick=\"convertToInteractive('df-ed3c931a-f010-465d-94df-2e59da3594c7')\"\n",
              "              title=\"Convert this dataframe to an interactive table.\"\n",
              "              style=\"display:none;\">\n",
              "        \n",
              "  <svg xmlns=\"http://www.w3.org/2000/svg\" height=\"24px\"viewBox=\"0 0 24 24\"\n",
              "       width=\"24px\">\n",
              "    <path d=\"M0 0h24v24H0V0z\" fill=\"none\"/>\n",
              "    <path d=\"M18.56 5.44l.94 2.06.94-2.06 2.06-.94-2.06-.94-.94-2.06-.94 2.06-2.06.94zm-11 1L8.5 8.5l.94-2.06 2.06-.94-2.06-.94L8.5 2.5l-.94 2.06-2.06.94zm10 10l.94 2.06.94-2.06 2.06-.94-2.06-.94-.94-2.06-.94 2.06-2.06.94z\"/><path d=\"M17.41 7.96l-1.37-1.37c-.4-.4-.92-.59-1.43-.59-.52 0-1.04.2-1.43.59L10.3 9.45l-7.72 7.72c-.78.78-.78 2.05 0 2.83L4 21.41c.39.39.9.59 1.41.59.51 0 1.02-.2 1.41-.59l7.78-7.78 2.81-2.81c.8-.78.8-2.07 0-2.86zM5.41 20L4 18.59l7.72-7.72 1.47 1.35L5.41 20z\"/>\n",
              "  </svg>\n",
              "      </button>\n",
              "      \n",
              "  <style>\n",
              "    .colab-df-container {\n",
              "      display:flex;\n",
              "      flex-wrap:wrap;\n",
              "      gap: 12px;\n",
              "    }\n",
              "\n",
              "    .colab-df-convert {\n",
              "      background-color: #E8F0FE;\n",
              "      border: none;\n",
              "      border-radius: 50%;\n",
              "      cursor: pointer;\n",
              "      display: none;\n",
              "      fill: #1967D2;\n",
              "      height: 32px;\n",
              "      padding: 0 0 0 0;\n",
              "      width: 32px;\n",
              "    }\n",
              "\n",
              "    .colab-df-convert:hover {\n",
              "      background-color: #E2EBFA;\n",
              "      box-shadow: 0px 1px 2px rgba(60, 64, 67, 0.3), 0px 1px 3px 1px rgba(60, 64, 67, 0.15);\n",
              "      fill: #174EA6;\n",
              "    }\n",
              "\n",
              "    [theme=dark] .colab-df-convert {\n",
              "      background-color: #3B4455;\n",
              "      fill: #D2E3FC;\n",
              "    }\n",
              "\n",
              "    [theme=dark] .colab-df-convert:hover {\n",
              "      background-color: #434B5C;\n",
              "      box-shadow: 0px 1px 3px 1px rgba(0, 0, 0, 0.15);\n",
              "      filter: drop-shadow(0px 1px 2px rgba(0, 0, 0, 0.3));\n",
              "      fill: #FFFFFF;\n",
              "    }\n",
              "  </style>\n",
              "\n",
              "      <script>\n",
              "        const buttonEl =\n",
              "          document.querySelector('#df-ed3c931a-f010-465d-94df-2e59da3594c7 button.colab-df-convert');\n",
              "        buttonEl.style.display =\n",
              "          google.colab.kernel.accessAllowed ? 'block' : 'none';\n",
              "\n",
              "        async function convertToInteractive(key) {\n",
              "          const element = document.querySelector('#df-ed3c931a-f010-465d-94df-2e59da3594c7');\n",
              "          const dataTable =\n",
              "            await google.colab.kernel.invokeFunction('convertToInteractive',\n",
              "                                                     [key], {});\n",
              "          if (!dataTable) return;\n",
              "\n",
              "          const docLinkHtml = 'Like what you see? Visit the ' +\n",
              "            '<a target=\"_blank\" href=https://colab.research.google.com/notebooks/data_table.ipynb>data table notebook</a>'\n",
              "            + ' to learn more about interactive tables.';\n",
              "          element.innerHTML = '';\n",
              "          dataTable['output_type'] = 'display_data';\n",
              "          await google.colab.output.renderOutput(dataTable, element);\n",
              "          const docLink = document.createElement('div');\n",
              "          docLink.innerHTML = docLinkHtml;\n",
              "          element.appendChild(docLink);\n",
              "        }\n",
              "      </script>\n",
              "    </div>\n",
              "  </div>\n",
              "  "
            ]
          },
          "metadata": {},
          "execution_count": 38
        }
      ]
    },
    {
      "cell_type": "code",
      "source": [
        "print(forecast[['ds', 'yhat', 'yhat_lower', 'yhat_upper']].head())"
      ],
      "metadata": {
        "colab": {
          "base_uri": "https://localhost:8080/"
        },
        "id": "qur21pnHJ0WE",
        "outputId": "0018bff8-644e-4144-9754-9f1421fde969"
      },
      "execution_count": null,
      "outputs": [
        {
          "output_type": "stream",
          "name": "stdout",
          "text": [
            "          ds          yhat    yhat_lower    yhat_upper\n",
            "0 1968-01-01  14365.145554  12833.712116  16043.201003\n",
            "1 1968-02-01  14933.143232  13396.189840  16513.417615\n",
            "2 1968-03-01  20888.408228  19328.716700  22490.597572\n",
            "3 1968-04-01  22908.610003  21407.423008  24556.377415\n",
            "4 1968-05-01  24203.646811  22595.632208  25696.334917\n"
          ]
        }
      ]
    },
    {
      "cell_type": "code",
      "source": [
        "model.plot(forecast)\n",
        "pyplot.show()"
      ],
      "metadata": {
        "colab": {
          "base_uri": "https://localhost:8080/",
          "height": 441
        },
        "id": "ZtvjygrBJJRr",
        "outputId": "659de67d-9340-420c-c126-bebf27a3131b"
      },
      "execution_count": null,
      "outputs": [
        {
          "output_type": "display_data",
          "data": {
            "text/plain": [
              "<Figure size 720x432 with 1 Axes>"
            ],
            "image/png": "[encoded data removed]"
          },
          "metadata": {}
        }
      ]
    },
    {
      "cell_type": "code",
      "source": [
        "future = list()\n",
        "for i in range(1, 13):\n",
        "  date = '1969-%02d' % i\n",
        "  future.append([ date ])\n",
        "\n",
        "future = pd.DataFrame(future)\n",
        "future.columns = ['ds']\n",
        "future['ds'] = pd.to_datetime(future['ds'])\n",
        "forecast = model.predict(future)\n",
        "\n",
        "print(forecast[['ds', 'yhat', 'yhat_lower', 'yhat_upper']].head())\n",
        "\n",
        "\n",
        "model.plot(forecast)\n",
        "pyplot.show()"
      ],
      "metadata": {
        "colab": {
          "base_uri": "https://localhost:8080/",
          "height": 545
        },
        "id": "8a64nuxbJJUD",
        "outputId": "58585bde-df60-43c5-c3de-c305bce5a46b"
      },
      "execution_count": null,
      "outputs": [
        {
          "output_type": "stream",
          "name": "stdout",
          "text": [
            "          ds          yhat    yhat_lower    yhat_upper\n",
            "0 1969-01-01  15427.072016  13935.548240  16973.298292\n",
            "1 1969-02-01  16200.303278  14698.969675  17761.182301\n",
            "2 1969-03-01  21405.664481  19775.173616  22987.319256\n",
            "3 1969-04-01  23528.599106  22135.813852  25084.038976\n",
            "4 1969-05-01  25035.673947  23429.132916  26583.363163\n"
          ]
        },
        {
          "output_type": "display_data",
          "data": {
            "text/plain": [
              "<Figure size 720x432 with 1 Axes>"
            ],
            "image/png": "[encoded data removed]"
          },
          "metadata": {}
        }
      ]
    },
    {
      "cell_type": "code",
      "source": [
        "import pandas as pd\n",
        "from prophet import Prophet\n",
        "from sklearn.metrics import mean_absolute_error \n",
        "from matplotlib import pyplot\n",
        "\n",
        "\n",
        "path = 'https://raw.githubusercontent.com/jbrownlee/Datasets/master/monthly-car-sales.csv'\n",
        "df = pd.read_csv(path, header = 0)\n",
        "\n",
        "\n",
        "df.columns = ['ds', 'y']\n",
        "df['ds'] = pd.to_datetime(df['ds'])"
      ],
      "metadata": {
        "id": "T9FEt5EePklK"
      },
      "execution_count": null,
      "outputs": []
    },
    {
      "cell_type": "code",
      "source": [
        "train = df.drop(df.index[-12:]) #modelimizden 1968 yılının bigilerini çıkardık\n",
        "print(train.tail())"
      ],
      "metadata": {
        "colab": {
          "base_uri": "https://localhost:8080/"
        },
        "id": "H4dxZ_FIPknb",
        "outputId": "94bbe4c0-0b77-462d-fb15-9ac65741c2cf"
      },
      "execution_count": null,
      "outputs": [
        {
          "output_type": "stream",
          "name": "stdout",
          "text": [
            "           ds      y\n",
            "91 1967-08-01  13434\n",
            "92 1967-09-01  13598\n",
            "93 1967-10-01  17187\n",
            "94 1967-11-01  16119\n",
            "95 1967-12-01  13713\n"
          ]
        }
      ]
    },
    {
      "cell_type": "code",
      "source": [
        "model = Prophet()\n",
        "model.fit(train)\n",
        "\n",
        "future = list()\n",
        "for i in range(1, 13):\n",
        "  date = '1968-%02d' % i\n",
        "  future.append([ date ])\n",
        "\n",
        "future = pd.DataFrame(future)\n",
        "future.columns = ['ds']\n",
        "future['ds'] = pd.to_datetime(future['ds'])\n",
        "forecast = model.predict(future)\n"
      ],
      "metadata": {
        "colab": {
          "base_uri": "https://localhost:8080/"
        },
        "id": "ALl5F0g_Pkpp",
        "outputId": "7840c7c9-b42e-44f4-e790-062ba6af2ad2"
      },
      "execution_count": null,
      "outputs": [
        {
          "output_type": "stream",
          "name": "stderr",
          "text": [
            "INFO:prophet:Disabling weekly seasonality. Run prophet with weekly_seasonality=True to override this.\n",
            "INFO:prophet:Disabling daily seasonality. Run prophet with daily_seasonality=True to override this.\n",
            "DEBUG:cmdstanpy:input tempfile: /tmp/tmpn9v8_j9w/ctsq9f3q.json\n",
            "DEBUG:cmdstanpy:input tempfile: /tmp/tmpn9v8_j9w/g8n3mee7.json\n",
            "DEBUG:cmdstanpy:idx 0\n",
            "DEBUG:cmdstanpy:running CmdStan, num_threads: None\n",
            "DEBUG:cmdstanpy:CmdStan args: ['/usr/local/lib/python3.7/dist-packages/prophet/stan_model/prophet_model.bin', 'random', 'seed=57816', 'data', 'file=/tmp/tmpn9v8_j9w/ctsq9f3q.json', 'init=/tmp/tmpn9v8_j9w/g8n3mee7.json', 'output', 'file=/tmp/tmp94r4k_9i/prophet_model-20220929124333.csv', 'method=optimize', 'algorithm=newton', 'iter=10000']\n",
            "12:43:33 - cmdstanpy - INFO - Chain [1] start processing\n",
            "INFO:cmdstanpy:Chain [1] start processing\n",
            "12:43:34 - cmdstanpy - INFO - Chain [1] done processing\n",
            "INFO:cmdstanpy:Chain [1] done processing\n"
          ]
        }
      ]
    },
    {
      "cell_type": "code",
      "source": [
        "y_true = df['y'][-12:].values\n",
        "y_pred = forecast['yhat'].values"
      ],
      "metadata": {
        "id": "5HgTxs_4Pkrk"
      },
      "execution_count": null,
      "outputs": []
    },
    {
      "cell_type": "code",
      "source": [
        "mea = mean_absolute_error(y_true, y_pred)\n",
        "print('MAE: %.3F' % mea)"
      ],
      "metadata": {
        "colab": {
          "base_uri": "https://localhost:8080/"
        },
        "id": "ORMiEptePktd",
        "outputId": "17b791a8-547e-4088-c54e-f4a392680da7"
      },
      "execution_count": null,
      "outputs": [
        {
          "output_type": "stream",
          "name": "stdout",
          "text": [
            "MAE: 1336.813\n"
          ]
        }
      ]
    },
    {
      "cell_type": "code",
      "source": [
        "pyplot.plot(y_true, label=\"Actual\")\n",
        "pyplot.plot(y_pred, label=\"Predited\")\n",
        "pyplot.legend()\n",
        "pyplot.show()"
      ],
      "metadata": {
        "colab": {
          "base_uri": "https://localhost:8080/",
          "height": 265
        },
        "id": "OmGB6fIpSPvo",
        "outputId": "14b0ce0f-eb5b-407b-b7f4-483bb61d4319"
      },
      "execution_count": null,
      "outputs": [
        {
          "output_type": "display_data",
          "data": {
            "text/plain": [
              "<Figure size 432x288 with 1 Axes>"
            ],
            "image/png": "[encoded data removed]"
          },
          "metadata": {
            "needs_background": "light"
          }
        }
      ]
    },
    {
      "cell_type": "code",
      "source": [],
      "metadata": {
        "id": "73ILxUUzSgOU"
      },
      "execution_count": null,
      "outputs": []
    }
  ]
}